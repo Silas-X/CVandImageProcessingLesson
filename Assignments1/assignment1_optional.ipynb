{
 "cells": [
  {
   "cell_type": "code",
   "execution_count": 2,
   "metadata": {},
   "outputs": [],
   "source": [
    "import torch\n",
    "from torch import nn\n",
    "from torch import optim\n",
    "from torch.utils.data import dataset,DataLoader\n",
    "import numpy as np\n",
    "from matplotlib import pyplot as plt\n",
    "import pandas as pd\n",
    "import torch.nn.functional"
   ]
  },
  {
   "cell_type": "code",
   "execution_count": 3,
   "metadata": {},
   "outputs": [],
   "source": [
    "class TempData(dataset.Dataset):\n",
    "    def __init__(self,start_val=0,num_elements=1000,add_noise=True) -> None:\n",
    "        super().__init__()\n",
    "        self.start_val=start_val\n",
    "        self.num_elements=num_elements\n",
    "        self.add_noise=True\n",
    "        if self.add_noise:\n",
    "            rng=np.random.default_rng()\n",
    "            self.randomFunc=lambda size:rng.uniform(0,1,size)\n",
    "        else:\n",
    "            self.randomFunc=lambda size:np.zeros(size)\n",
    "        self.GenerateData()\n",
    "\n",
    "    def GenerateData(self):\n",
    "        self.true_data_celsius=np.arange(start=self.start_val,stop=self.start_val+self.num_elements).astype(np.double)\n",
    "        # np.linspace(self.start_val,self.num_elements*self.step_size+self.start_val) # ground truth\n",
    "        self.data=self.true_data_celsius*1.8+32.0+self.randomFunc(self.true_data_celsius.shape)\n",
    "    \n",
    "    def __getitem__(self, index):\n",
    "        return self.data[index],self.true_data_celsius[index]\n",
    "    \n",
    "    def __len__(self):\n",
    "        return self.num_elements"
   ]
  },
  {
   "cell_type": "code",
   "execution_count": 4,
   "metadata": {},
   "outputs": [],
   "source": [
    "class Model(nn.Module):\n",
    "    def __init__(self) -> None:\n",
    "        super(Model,self).__init__()\n",
    "        n_input=1\n",
    "        n_output=1\n",
    "        self.w=nn.Parameter(torch.randn(n_input,n_output))\n",
    "        self.b=nn.Parameter(torch.randn(n_output))\n",
    "    \n",
    "    def forward(self,x):\n",
    "        return x@self.w+self.b"
   ]
  },
  {
   "cell_type": "code",
   "execution_count": 5,
   "metadata": {},
   "outputs": [],
   "source": [
    "def evaluate(mode,dataLoader,device=\"cpu\"):\n",
    "    model.eval()\n",
    "    predictions=torch.FloatTensor(0)\n",
    "    gt=torch.FloatTensor(0)\n",
    "\n",
    "    for batch,(inputs,labels) in enumerate(testDataLoader):\n",
    "        inputs=inputs.reshape(-1,1).to(device)\n",
    "        labels=labels.reshape(-1,1).to(device)\n",
    "        outputs=model(inputs)\n",
    "        gt=torch.cat((gt,labels),0)\n",
    "        predictions=torch.cat((predictions,outputs),0)\n",
    "    mean_error=nn.functional.mse_loss(gt,predictions)\n",
    "    return mean_error.detach().numpy()"
   ]
  },
  {
   "cell_type": "code",
   "execution_count": 6,
   "metadata": {},
   "outputs": [],
   "source": [
    "trainDataLoader=DataLoader(TempData(start_val=0,num_elements=1000),batch_size=64,shuffle=True)\n",
    "testDataLoader=DataLoader(TempData(start_val=1000,num_elements=300,add_noise=False),batch_size=64,shuffle=True)"
   ]
  },
  {
   "cell_type": "code",
   "execution_count": 7,
   "metadata": {},
   "outputs": [],
   "source": [
    "model=Model().double()\n",
    "optimizer=optim.Adam(model.parameters(),lr=0.1)\n",
    "multiStepLR=optim.lr_scheduler.MultiStepLR(optimizer,milestones=[30,80],gamma=0.1)\n",
    "loss=nn.MSELoss()\n",
    "EPOCHES=100"
   ]
  },
  {
   "cell_type": "code",
   "execution_count": 8,
   "metadata": {},
   "outputs": [
    {
     "name": "stdout",
     "output_type": "stream",
     "text": []
    }
   ],
   "source": [
    "device=\"cuda\" if torch.cuda.is_available() else \"cpu\"\n",
    "eval_epochs=20\n",
    "error_train=[]\n",
    "lr=[]\n",
    "error_test=[]\n",
    "for epoch in range(EPOCHES):\n",
    "    model.train()\n",
    "    total_error=0\n",
    "    step=0\n",
    "    for batch, (inputs,labels) in enumerate(trainDataLoader):\n",
    "        step+=1\n",
    "        inputs=inputs.reshape(-1,1).to(device)\n",
    "        labels=labels.reshape(-1,1).to(device)\n",
    "        optimizer.zero_grad() # Clear grad info\n",
    "        outpus=model(inputs)\n",
    "        loss_val=loss(outpus,labels)\n",
    "        total_error+=loss_val.detach().numpy()\n",
    "        loss_val.backward()\n",
    "        optimizer.step()\n",
    "    print(\"Epoch:%d/%d, lr %f\"%(epoch,EPOCHES,multiStepLR.get_last_lr()[0]),end=\"\\r\")\n",
    "    assert batch+1==step\n",
    "    error_train.append([epoch,total_error/batch])\n",
    "    lr.append([epoch,multiStepLR.get_last_lr()[0]])\n",
    "    multiStepLR.step()\n",
    "    if epoch % eval_epochs ==0:\n",
    "        error_test.append([epoch,evaluate(model,testDataLoader,device=device)])"
   ]
  },
  {
   "cell_type": "code",
   "execution_count": 13,
   "metadata": {},
   "outputs": [
    {
     "data": {
      "text/plain": [
       "[<matplotlib.lines.Line2D at 0x26182a1e790>]"
      ]
     },
     "execution_count": 13,
     "metadata": {},
     "output_type": "execute_result"
    },
    {
     "data": {
      "image/png": "[encoded data removed]",
      "text/plain": [
       "<Figure size 432x288 with 3 Axes>"
      ]
     },
     "metadata": {
      "needs_background": "light"
     },
     "output_type": "display_data"
    }
   ],
   "source": [
    "fig=plt.figure()\n",
    "axes=np.array(fig.subplots(1,3)).flatten()\n",
    "error_train=np.array(error_train).T\n",
    "lr=np.array(lr).T\n",
    "error_test=np.array(error_test).T\n",
    "axes[0].plot(error_train[0],error_train[1])\n",
    "axes[1].plot(error_test[0],error_test[1])\n",
    "axes[2].plot(lr[0],lr[1])\n",
    "# fig.tight_layout()"
   ]
  },
  {
   "cell_type": "code",
   "execution_count": null,
   "metadata": {},
   "outputs": [],
   "source": []
  }
 ],
 "metadata": {
  "interpreter": {
   "hash": "709908c57e4fe06be2030c33e68a5897e38c119e807fb99702f3b3b73d7ee1ee"
  },
  "kernelspec": {
   "display_name": "Python 3.8.12 64-bit ('experiments': conda)",
   "language": "python",
   "name": "python3"
  },
  "language_info": {
   "codemirror_mode": {
    "name": "ipython",
    "version": 3
   },
   "file_extension": ".py",
   "mimetype": "text/x-python",
   "name": "python",
   "nbconvert_exporter": "python",
   "pygments_lexer": "ipython3",
   "version": "3.8.12"
  },
  "orig_nbformat": 4
 },
 "nbformat": 4,
 "nbformat_minor": 2
}
